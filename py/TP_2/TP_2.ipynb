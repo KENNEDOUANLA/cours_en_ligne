{
 "cells": [
  {
   "cell_type": "markdown",
   "metadata": {
    "deletable": false,
    "run_control": {
     "frozen": true
    }
   },
   "source": [
    "# TP 1 :   `Sympy`"
   ]
  },
  {
   "cell_type": "markdown",
   "metadata": {},
   "source": [
    "**Nom(s) :** &nbsp;&nbsp;&nbsp;&nbsp;   &nbsp;&ensp; &emsp;  ??   \n",
    "**Prénom(s) :** &emsp;&emsp;  ??"
   ]
  },
  {
   "cell_type": "markdown",
   "metadata": {},
   "source": [
    "**Objectifs du TP** : \n",
    "\n",
    "- Savoir exécuter jupyter notebook, lancer/sauvegarder un notebook, utiliser les premières commandes Python standard, importer une librairie.\n",
    "- Introduction à sympy , quelques calculs de base et graphes symboliques\n",
    "\n",
    "**Quelques conseils de base** : Pour chaque fiche de TP, nous utiliserons un calepin jupyter            notebook. Il est conseillé de créer unrépertoire INF2B2, puis un sous-répertoire pour chaque TP (e.g., TP1, TP2, TP3....). En général, une archive, que vous pouvez télécharger sur ecampus, est composée du fichier TP_X.ipynb qui contient les commandes (pratiquement) pré-remplies correspondant au TP X ainsi que les ressources nécessaires. Il faut *renommer* le fichier .ipynb sous  la forme <u>TP_X_Nom_Prenom.ipynb</u>. Dans un répertoire TP1, vous stockerez donc : \n",
    "    - Le fichier TP_1_Nom_Prenom.ipynb\n",
    "    - Le fichier TP_1_Nom_Prenom au format PDF \n",
    "    - Les fichiers de données (qui y seront téléchargés)"
   ]
  },
  {
   "cell_type": "markdown",
   "metadata": {},
   "source": [
    "## I) Calcul symbolique avec Sympy"
   ]
  },
  {
   "cell_type": "code",
   "execution_count": 2,
   "metadata": {},
   "outputs": [],
   "source": [
    "import sympy as sp\n",
    "import warnings\n",
    "warnings.filterwarnings('ignore') # pour ne pas afficher les warnings\n",
    "from IPython.display import display\n",
    "sp.init_printing()"
   ]
  },
  {
   "cell_type": "markdown",
   "metadata": {},
   "source": [
    "### Exercice 1"
   ]
  },
  {
   "cell_type": "markdown",
   "metadata": {},
   "source": [
    "**Rappel :**\n",
    "Il y a trois modèles de définition d'une fonction; par exemple pour la fonction qui à x associe 5x on peut définir\n",
    "1. x = sp.symbols('x')\n",
    "   f = 5*x\n",
    "2. def f(x) : \n",
    "      return (5*x)\n",
    "3. f = sp.Lambda([x], 5*x)"
   ]
  },
  {
   "cell_type": "markdown",
   "metadata": {},
   "source": [
    "1. Au moyen de la librairie `sympy`, définir de manière symbolique la fonction $f(x)=\\frac{(x+4+(3x+5))}{(x+4)^2}$ et afficher f(2)\n",
    "\n",
    "    Testez et comparer les trois modèles de définition de la fonction"
   ]
  },
  {
   "cell_type": "code",
   "execution_count": 3,
   "metadata": {},
   "outputs": [],
   "source": [
    "x = sp.symbols('x') #---------------------Exo 1 ----------------------#"
   ]
  },
  {
   "cell_type": "code",
   "execution_count": 7,
   "metadata": {},
   "outputs": [
    {
     "data": {
      "image/png": "[encoded data removed]",
      "text/latex": [
       "$\\displaystyle \\frac{4 x + 9}{\\left(x + 4\\right)^{2}}$"
      ],
      "text/plain": [
       "4⋅x + 9 \n",
       "────────\n",
       "       2\n",
       "(x + 4) "
      ]
     },
     "metadata": {},
     "output_type": "display_data"
    },
    {
     "name": "stdout",
     "output_type": "stream",
     "text": [
      "f(2)= 17/36\n"
     ]
    }
   ],
   "source": [
    "#Solution A\n",
    "# A compléter ...\n"
   ]
  },
  {
   "cell_type": "code",
   "execution_count": 8,
   "metadata": {},
   "outputs": [
    {
     "data": {
      "image/png": "[encoded data removed]",
      "text/latex": [
       "$\\displaystyle \\frac{4 x + 9}{\\left(x + 4\\right)^{2}}$"
      ],
      "text/plain": [
       "4⋅x + 9 \n",
       "────────\n",
       "       2\n",
       "(x + 4) "
      ]
     },
     "metadata": {},
     "output_type": "display_data"
    },
    {
     "name": "stdout",
     "output_type": "stream",
     "text": [
      "f(2)= 17/36\n"
     ]
    },
    {
     "data": {
      "image/png": "[encoded data removed]",
      "text/latex": [
       "$\\displaystyle 0.472222222222222$"
      ],
      "text/plain": [
       "0.4722222222222222"
      ]
     },
     "execution_count": 8,
     "metadata": {},
     "output_type": "execute_result"
    }
   ],
   "source": [
    "#Solution B\n",
    "# A compléter ...\n"
   ]
  },
  {
   "cell_type": "code",
   "execution_count": 9,
   "metadata": {},
   "outputs": [
    {
     "data": {
      "image/png": "[encoded data removed]",
      "text/latex": [
       "$\\displaystyle \\frac{4 x + 9}{\\left(x + 4\\right)^{2}}$"
      ],
      "text/plain": [
       "4⋅x + 9 \n",
       "────────\n",
       "       2\n",
       "(x + 4) "
      ]
     },
     "metadata": {},
     "output_type": "display_data"
    },
    {
     "name": "stdout",
     "output_type": "stream",
     "text": [
      "f(2)= 17/36\n"
     ]
    },
    {
     "data": {
      "image/png": "[encoded data removed]",
      "text/latex": [
       "$\\displaystyle \\frac{17}{36}$"
      ],
      "text/plain": [
       "17\n",
       "──\n",
       "36"
      ]
     },
     "execution_count": 9,
     "metadata": {},
     "output_type": "execute_result"
    }
   ],
   "source": [
    "#Solution C\n",
    "# A compléter ...\n"
   ]
  },
  {
   "cell_type": "markdown",
   "metadata": {},
   "source": [
    "2a. Dans chacun des cas, calculez la dérivée de f(x).\n",
    "On pourra essayer plusieurs affichages de f_prime (print, display, sp.pprint)"
   ]
  },
  {
   "cell_type": "code",
   "execution_count": 10,
   "metadata": {},
   "outputs": [
    {
     "name": "stdout",
     "output_type": "stream",
     "text": [
      "4/(x + 4)**2 - 2*(4*x + 9)/(x + 4)**3\n",
      "   4       2⋅(4⋅x + 9)\n",
      "──────── - ───────────\n",
      "       2            3 \n",
      "(x + 4)      (x + 4)  \n"
     ]
    },
    {
     "data": {
      "image/png": "[encoded data removed]",
      "text/latex": [
       "$\\displaystyle \\frac{4}{\\left(x + 4\\right)^{2}} - \\frac{2 \\left(4 x + 9\\right)}{\\left(x + 4\\right)^{3}}$"
      ],
      "text/plain": [
       "   4       2⋅(4⋅x + 9)\n",
       "──────── - ───────────\n",
       "       2            3 \n",
       "(x + 4)      (x + 4)  "
      ]
     },
     "metadata": {},
     "output_type": "display_data"
    }
   ],
   "source": [
    "# A compléter ...\n"
   ]
  },
  {
   "cell_type": "markdown",
   "metadata": {},
   "source": [
    "2b.Calculer les zéros de la dérivée."
   ]
  },
  {
   "cell_type": "code",
   "execution_count": 11,
   "metadata": {},
   "outputs": [
    {
     "data": {
      "image/png": "[encoded data removed]",
      "text/latex": [
       "$\\displaystyle \\frac{4}{\\left(x + 4\\right)^{2}} - \\frac{2 \\left(4 x + 9\\right)}{\\left(x + 4\\right)^{3}} = 0$"
      ],
      "text/plain": [
       "   4       2⋅(4⋅x + 9)    \n",
       "──────── - ─────────── = 0\n",
       "       2            3     \n",
       "(x + 4)      (x + 4)      "
      ]
     },
     "metadata": {},
     "output_type": "display_data"
    },
    {
     "name": "stdout",
     "output_type": "stream",
     "text": [
      "[-1/2]\n"
     ]
    }
   ],
   "source": [
    "# A compléter ..."
   ]
  },
  {
   "cell_type": "code",
   "execution_count": 12,
   "metadata": {},
   "outputs": [
    {
     "name": "stdout",
     "output_type": "stream",
     "text": [
      "[-1/2]\n"
     ]
    }
   ],
   "source": [
    "# A compléter ..."
   ]
  },
  {
   "cell_type": "markdown",
   "metadata": {},
   "source": [
    "3. Exprimer la dérivée sous forme factorisée (fonction factor) pour vérifier ses zéros et écrire une ligen de commande pour cette vérification."
   ]
  },
  {
   "cell_type": "code",
   "execution_count": 13,
   "metadata": {},
   "outputs": [
    {
     "name": "stdout",
     "output_type": "stream",
     "text": [
      "Forme factorisée :\n"
     ]
    },
    {
     "data": {
      "image/png": "[encoded data removed]",
      "text/latex": [
       "$\\displaystyle - \\frac{2 \\left(2 x + 1\\right)}{\\left(x + 4\\right)^{3}}$"
      ],
      "text/plain": [
       "-2⋅(2⋅x + 1) \n",
       "─────────────\n",
       "          3  \n",
       "   (x + 4)   "
      ]
     },
     "execution_count": 13,
     "metadata": {},
     "output_type": "execute_result"
    }
   ],
   "source": [
    "# A compléter ..."
   ]
  },
  {
   "cell_type": "code",
   "execution_count": 14,
   "metadata": {},
   "outputs": [
    {
     "name": "stdout",
     "output_type": "stream",
     "text": [
      "On exprime sous forme factorisée -2*(2*x + 1)/(x + 4)**3, on vérifie : c'est True\n"
     ]
    }
   ],
   "source": [
    "# A compléter ..."
   ]
  },
  {
   "cell_type": "markdown",
   "metadata": {},
   "source": [
    "4. Calculer les limites de f(x) quand $x \\to -\\infty$, $x \\to +\\infty$, $x \\to 2$"
   ]
  },
  {
   "cell_type": "code",
   "execution_count": 15,
   "metadata": {},
   "outputs": [
    {
     "name": "stdout",
     "output_type": "stream",
     "text": [
      "limite de f(x) quand x -> +oo, -oo et 2 sont : \n"
     ]
    },
    {
     "data": {
      "image/png": "[encoded data removed]",
      "text/latex": [
       "$\\displaystyle \\left( 0, \\  0, \\  \\frac{17}{36}\\right)$"
      ],
      "text/plain": [
       "⎛      17⎞\n",
       "⎜0, 0, ──⎟\n",
       "⎝      36⎠"
      ]
     },
     "execution_count": 15,
     "metadata": {},
     "output_type": "execute_result"
    }
   ],
   "source": [
    "# A compléter ..."
   ]
  },
  {
   "cell_type": "markdown",
   "metadata": {},
   "source": [
    "5. Tracer la courbe de f(x) telle que : $$-4 \\leq f(x) \\leq4 $$\n",
    "\n",
    "    On ne tracera la courbe que pour y compris entre -6 et +2 en utilisant l’option ylim"
   ]
  },
  {
   "cell_type": "code",
   "execution_count": 16,
   "metadata": {},
   "outputs": [
    {
     "data": {
      "image/png": "[encoded data removed]",
      "text/plain": [
       "<Figure size 432x288 with 1 Axes>"
      ]
     },
     "metadata": {
      "needs_background": "light"
     },
     "output_type": "display_data"
    },
    {
     "data": {
      "text/plain": [
       "<sympy.plotting.plot.Plot at 0x1205144d0>"
      ]
     },
     "execution_count": 16,
     "metadata": {},
     "output_type": "execute_result"
    }
   ],
   "source": [
    "%matplotlib inline\n",
    "# A compléter ...\n"
   ]
  },
  {
   "cell_type": "markdown",
   "metadata": {},
   "source": [
    "### Exercice 2"
   ]
  },
  {
   "cell_type": "markdown",
   "metadata": {},
   "source": [
    "1. Définir la fonction $f(x)=2x^2-3x+1$"
   ]
  },
  {
   "cell_type": "code",
   "execution_count": 17,
   "metadata": {},
   "outputs": [
    {
     "data": {
      "image/png": "[encoded data removed]",
      "text/latex": [
       "$\\displaystyle 2 x^{2} - 3 x + 1$"
      ],
      "text/plain": [
       "   2          \n",
       "2⋅x  - 3⋅x + 1"
      ]
     },
     "metadata": {},
     "output_type": "display_data"
    }
   ],
   "source": [
    "# A compléter ..."
   ]
  },
  {
   "cell_type": "markdown",
   "metadata": {},
   "source": [
    " 2. Calculer la dérivée de la fonction f"
   ]
  },
  {
   "cell_type": "code",
   "execution_count": 18,
   "metadata": {},
   "outputs": [
    {
     "data": {
      "image/png": "[encoded data removed]",
      "text/latex": [
       "$\\displaystyle 4 x - 3$"
      ],
      "text/plain": [
       "4⋅x - 3"
      ]
     },
     "execution_count": 18,
     "metadata": {},
     "output_type": "execute_result"
    }
   ],
   "source": [
    "# A compléter ..."
   ]
  },
  {
   "cell_type": "markdown",
   "metadata": {},
   "source": [
    "3. Définir la fonction g(x,y) comme le produit de f(x) par $2y^3$"
   ]
  },
  {
   "cell_type": "code",
   "execution_count": 19,
   "metadata": {},
   "outputs": [
    {
     "data": {
      "image/png": "[encoded data removed]",
      "text/latex": [
       "$\\displaystyle y^{3} \\left(4 x^{2} - 6 x + 2\\right)$"
      ],
      "text/plain": [
       " 3 ⎛   2          ⎞\n",
       "y ⋅⎝4⋅x  - 6⋅x + 2⎠"
      ]
     },
     "metadata": {},
     "output_type": "display_data"
    }
   ],
   "source": [
    "# A compléter ..."
   ]
  },
  {
   "cell_type": "markdown",
   "metadata": {},
   "source": [
    "4. Calculer la dérivée de g par rapport à x"
   ]
  },
  {
   "cell_type": "code",
   "execution_count": 20,
   "metadata": {},
   "outputs": [
    {
     "data": {
      "image/png": "[encoded data removed]",
      "text/latex": [
       "$\\displaystyle y^{3} \\left(8 x - 6\\right)$"
      ],
      "text/plain": [
       " 3          \n",
       "y ⋅(8⋅x - 6)"
      ]
     },
     "execution_count": 20,
     "metadata": {},
     "output_type": "execute_result"
    }
   ],
   "source": [
    "# A compléter ..."
   ]
  },
  {
   "cell_type": "markdown",
   "metadata": {},
   "source": [
    "5. Calculer la dérivée de g par rapport à y"
   ]
  },
  {
   "cell_type": "code",
   "execution_count": 21,
   "metadata": {},
   "outputs": [
    {
     "data": {
      "image/png": "[encoded data removed]",
      "text/latex": [
       "$\\displaystyle 3 y^{2} \\left(4 x^{2} - 6 x + 2\\right)$"
      ],
      "text/plain": [
       "   2 ⎛   2          ⎞\n",
       "3⋅y ⋅⎝4⋅x  - 6⋅x + 2⎠"
      ]
     },
     "execution_count": 21,
     "metadata": {},
     "output_type": "execute_result"
    }
   ],
   "source": [
    "# A compléter ..."
   ]
  },
  {
   "cell_type": "markdown",
   "metadata": {},
   "source": [
    "6. Calculer une primitive de f"
   ]
  },
  {
   "cell_type": "code",
   "execution_count": 22,
   "metadata": {},
   "outputs": [
    {
     "data": {
      "image/png": "[encoded data removed]",
      "text/latex": [
       "$\\displaystyle \\frac{2 x^{3}}{3} - \\frac{3 x^{2}}{2} + x$"
      ],
      "text/plain": [
       "   3      2    \n",
       "2⋅x    3⋅x     \n",
       "──── - ──── + x\n",
       " 3      2      "
      ]
     },
     "execution_count": 22,
     "metadata": {},
     "output_type": "execute_result"
    }
   ],
   "source": [
    "# A compléter ..."
   ]
  },
  {
   "cell_type": "markdown",
   "metadata": {},
   "source": [
    "7. Calculer l’intégrale de f entre 0 et 2"
   ]
  },
  {
   "cell_type": "code",
   "execution_count": 23,
   "metadata": {},
   "outputs": [
    {
     "data": {
      "image/png": "[encoded data removed]",
      "text/latex": [
       "$\\displaystyle \\frac{4}{3}$"
      ],
      "text/plain": [
       "4/3"
      ]
     },
     "execution_count": 23,
     "metadata": {},
     "output_type": "execute_result"
    }
   ],
   "source": [
    "# A compléter ..."
   ]
  },
  {
   "cell_type": "markdown",
   "metadata": {},
   "source": [
    "8. Tracer le graphe de la fonction f pour x variant entre 0 et 1.5"
   ]
  },
  {
   "cell_type": "code",
   "execution_count": 24,
   "metadata": {},
   "outputs": [
    {
     "data": {
      "image/png": "[encoded data removed]",
      "text/plain": [
       "<Figure size 432x288 with 1 Axes>"
      ]
     },
     "metadata": {
      "needs_background": "light"
     },
     "output_type": "display_data"
    },
    {
     "data": {
      "text/plain": [
       "<sympy.plotting.plot.Plot at 0x120b17890>"
      ]
     },
     "execution_count": 24,
     "metadata": {},
     "output_type": "execute_result"
    }
   ],
   "source": [
    "# A compléter ..."
   ]
  },
  {
   "cell_type": "markdown",
   "metadata": {},
   "source": [
    "9. Trouver les valeurs de x qui annulent f."
   ]
  },
  {
   "cell_type": "code",
   "execution_count": 25,
   "metadata": {},
   "outputs": [
    {
     "data": {
      "image/png": "[encoded data removed]",
      "text/latex": [
       "$\\displaystyle \\left[ \\frac{1}{2}, \\  1\\right]$"
      ],
      "text/plain": [
       "[1/2, 1]"
      ]
     },
     "execution_count": 25,
     "metadata": {},
     "output_type": "execute_result"
    }
   ],
   "source": [
    "# A compléter ...\n"
   ]
  }
 ],
 "metadata": {
  "celltoolbar": "Format de la Cellule Texte Brut",
  "kernelspec": {
   "display_name": "Python 3 (ipykernel)",
   "language": "python",
   "name": "python3"
  },
  "language_info": {
   "codemirror_mode": {
    "name": "ipython",
    "version": 3
   },
   "file_extension": ".py",
   "mimetype": "text/x-python",
   "name": "python",
   "nbconvert_exporter": "python",
   "pygments_lexer": "ipython3",
   "version": "3.9.7"
  },
  "latex_envs": {
   "LaTeX_envs_menu_present": true,
   "autoclose": true,
   "autocomplete": true,
   "bibliofile": "biblio.bib",
   "cite_by": "apalike",
   "current_citInitial": 1,
   "eqLabelWithNumbers": true,
   "eqNumInitial": 1,
   "hotkeys": {
    "equation": "Ctrl-E",
    "itemize": "Ctrl-I"
   },
   "labels_anchors": true,
   "latex_user_defs": true,
   "report_style_numbering": true,
   "user_envs_cfg": true
  },
  "nb.metadata.authors": {
   "name": "Youssef CHAHIR"
  },
  "toc": {
   "base_numbering": 1,
   "nav_menu": {
    "height": "211px",
    "width": "339px"
   },
   "number_sections": false,
   "sideBar": true,
   "skip_h1_title": false,
   "title_cell": "Table of Contents",
   "title_sidebar": "Contents",
   "toc_cell": false,
   "toc_position": {},
   "toc_section_display": true,
   "toc_window_display": false
  },
  "varInspector": {
   "cols": {
    "lenName": 16,
    "lenType": 16,
    "lenVar": 40
   },
   "kernels_config": {
    "python": {
     "delete_cmd_postfix": "",
     "delete_cmd_prefix": "del ",
     "library": "var_list.py",
     "varRefreshCmd": "print(var_dic_list())"
    },
    "r": {
     "delete_cmd_postfix": ") ",
     "delete_cmd_prefix": "rm(",
     "library": "var_list.r",
     "varRefreshCmd": "cat(var_dic_list()) "
    }
   },
   "types_to_exclude": [
    "module",
    "function",
    "builtin_function_or_method",
    "instance",
    "_Feature"
   ],
   "window_display": false
  }
 },
 "nbformat": 4,
 "nbformat_minor": 2
}
